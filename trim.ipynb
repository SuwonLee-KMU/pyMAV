{
 "cells": [
  {
   "cell_type": "markdown",
   "metadata": {},
   "source": [
    "# Trim conditions for pyMAV"
   ]
  },
  {
   "cell_type": "markdown",
   "metadata": {},
   "source": [
    "1. 수치적으로 트림점을 찾는 함수 작성\n",
    "2. 사용자가 지정할 트림조건을 목록화\n",
    "3. 트림점을 찾을 범위 지정"
   ]
  },
  {
   "cell_type": "markdown",
   "metadata": {},
   "source": [
    "상태변수와 제어명령\n",
    "\n",
    "$x \\triangleq (p_n, p_e, p_d, u, v, w, \\phi, \\theta, \\psi, p, q, r)^T$ \n",
    "\n",
    "$ u \\triangleq (\\delta_e, \\delta_t, \\delta_a, \\delta_r)^T$"
   ]
  },
  {
   "cell_type": "markdown",
   "metadata": {},
   "source": [
    "트림점\n",
    "- Aerodynamic literature에서, 평형점에 있는 항공기를 트림상태에 있다고 부른다.\n",
    "- 일반적으로 트림조건에서는 일정한 값이 아닌 상태변수도 포함할 수 있다.\n",
    "- 트림조건에서는 바람이 0인 것으로 가정하고, 바람은 외란으로 고려한다.\n",
    "    - 따라서, $V_a = V_g, \\psi = \\chi, \\gamma = \\gamma_a$ 이다."
   ]
  },
  {
   "cell_type": "markdown",
   "metadata": {},
   "source": [
    "트림조건\n",
    "1. 항공기가 일정한 속력으로 순항한다. $V_a^*$.\n",
    "2. 항공기가 일정한 비행경로각으로 상승한다. $\\gamma^*$.\n",
    "3. 항공기가 일정한 반지름으로 궤도운동한다. $R$."
   ]
  },
  {
   "cell_type": "markdown",
   "metadata": {},
   "source": [
    "트림조건 2.\n",
    "- $p_n, p_e$는 아무래도 상관 없다.\n",
    "- $\\dot{u} = \\dot{v} = \\dot{w} = 0$\n",
    "- $\\dot{\\phi} = \\dot{\\theta} = \\dot{p} = \\dot{q} = \\dot{r} = 0$\n",
    "- $\\dot{\\psi} = \\frac{V_a^*}{R^*}\\cos\\gamma^*$\n",
    "- $\\dot{h} = V_a^* \\sin\\gamma^*$\n",
    "- 결국 $V_a^*, \\gamma^*, R^*$ 이 주어지는 경우 모든 상태변수를 지정할 수 있다.\n"
   ]
  },
  {
   "cell_type": "markdown",
   "metadata": {},
   "source": [
    "트림점 찾는 순서\n",
    "\n",
    "1. $V_a^*, \\gamma^*, R^*$가 주어진다.\n",
    "2. $\\alpha^*, \\beta^*, \\phi^*$를 찾는다.\n",
    "    > $(\\alpha^*, \\phi^*, \\beta^*) = \\argmin \\|\\dot{x}^* - f(x^*, u^*)\\|^2$\n",
    "3. 트림상태변수 $x^*$를 찾는다.\n",
    "4. 트림제어명령 $u^*$를 찾는다."
   ]
  },
  {
   "cell_type": "code",
   "execution_count": 27,
   "metadata": {},
   "outputs": [],
   "source": [
    "import numpy as np\n",
    "from math import cos, sin, tan, pi, sqrt\n",
    "class dotdict(dict):\n",
    "    \"\"\"dot.notation access to dictionary attributes\"\"\"\n",
    "    __getattr__ = dict.get\n",
    "    __setattr__ = dict.__setitem__\n",
    "    __delattr__ = dict.__delitem__"
   ]
  },
  {
   "cell_type": "code",
   "execution_count": 28,
   "metadata": {},
   "outputs": [],
   "source": [
    "# Trim condition\n",
    "tc = dotdict() # trim condition\n",
    "tc.Va = 200\n",
    "tc.gamma = 0\n",
    "tc.R = 1000\n",
    "def get_trim_vector(trim_condition):\n",
    "    return [trim_condition.Va, trim_condition.gamma, trim_condition.R]"
   ]
  },
  {
   "cell_type": "code",
   "execution_count": 44,
   "metadata": {},
   "outputs": [
    {
     "name": "stdout",
     "output_type": "stream",
     "text": [
      "[190.2113032590307, 0.0, 61.803398874989476]\n",
      "[-0.06180339887498948, 0.0, 0.1902113032590307]\n",
      "0.3141592653589793\n"
     ]
    }
   ],
   "source": [
    "# Compute states from (Va, gamma, R), (alpha, beta, phi)\n",
    "def compute_uvwpqr(Va, gamma, R, alpha, beta, phi):\n",
    "    u = Va*cos(alpha)*cos(beta)\n",
    "    v = Va*sin(beta)\n",
    "    w = Va*sin(alpha)*cos(beta)\n",
    "    theta = alpha + gamma\n",
    "    p = -Va/R*sin(theta)\n",
    "    q = Va/R*sin(phi)*cos(theta)\n",
    "    r = Va/R*cos(phi)*cos(theta)\n",
    "    uvw = [u, v, w]\n",
    "    pqr = [p, q, r]\n",
    "    return uvw, pqr, theta\n",
    "\n",
    "alpha = pi/10\n",
    "beta = 0\n",
    "phi = 0\n",
    "\n",
    "uvw, pqr, theta = compute_uvwpqr(*get_trim_vector(tc), alpha, beta, phi)\n",
    "print(uvw)\n",
    "print(pqr)\n",
    "print(theta)\n"
   ]
  },
  {
   "cell_type": "code",
   "execution_count": 71,
   "metadata": {},
   "outputs": [
    {
     "name": "stdout",
     "output_type": "stream",
     "text": [
      "[-0.06180339887498948, 0.0, 0.1902113032590307]\n",
      "-16.283185436622304 1.0256815808768078 -1.025681580876808\n"
     ]
    },
    {
     "ename": "ValueError",
     "evalue": "Invalid parameters.. cannot compute delta_t",
     "output_type": "error",
     "traceback": [
      "\u001b[0;31m---------------------------------------------------------------------------\u001b[0m",
      "\u001b[0;31mValueError\u001b[0m                                Traceback (most recent call last)",
      "\u001b[0;32m/var/folders/mk/3pb_fc8s0jv4b2sj9hvnxfz80000gn/T/ipykernel_1365/2312226164.py\u001b[0m in \u001b[0;36m<module>\u001b[0;34m\u001b[0m\n\u001b[1;32m    113\u001b[0m \u001b[0maero_coef\u001b[0m\u001b[0;34m.\u001b[0m\u001b[0mCDq\u001b[0m \u001b[0;34m=\u001b[0m \u001b[0;36m1\u001b[0m\u001b[0;34m\u001b[0m\u001b[0;34m\u001b[0m\u001b[0m\n\u001b[1;32m    114\u001b[0m \u001b[0maero_coef\u001b[0m\u001b[0;34m.\u001b[0m\u001b[0mCDde\u001b[0m \u001b[0;34m=\u001b[0m \u001b[0;36m1\u001b[0m\u001b[0;34m\u001b[0m\u001b[0;34m\u001b[0m\u001b[0m\n\u001b[0;32m--> 115\u001b[0;31m \u001b[0mdelta_t\u001b[0m \u001b[0;34m=\u001b[0m \u001b[0mcompute_delta_t\u001b[0m\u001b[0;34m(\u001b[0m\u001b[0maircraft_param\u001b[0m\u001b[0;34m,\u001b[0m \u001b[0maero_coef\u001b[0m\u001b[0;34m,\u001b[0m \u001b[0mVab\u001b[0m\u001b[0;34m,\u001b[0m \u001b[0muvw\u001b[0m\u001b[0;34m,\u001b[0m \u001b[0mpqr\u001b[0m\u001b[0;34m,\u001b[0m \u001b[0mtheta\u001b[0m\u001b[0;34m)\u001b[0m\u001b[0;34m\u001b[0m\u001b[0;34m\u001b[0m\u001b[0m\n\u001b[0m",
      "\u001b[0;32m/var/folders/mk/3pb_fc8s0jv4b2sj9hvnxfz80000gn/T/ipykernel_1365/2312226164.py\u001b[0m in \u001b[0;36mcompute_delta_t\u001b[0;34m(aircraft_param, aero_coef, Vab, uvw, pqr, theta)\u001b[0m\n\u001b[1;32m     97\u001b[0m     \u001b[0mterm2\u001b[0m \u001b[0;34m=\u001b[0m \u001b[0mVa\u001b[0m\u001b[0;34m**\u001b[0m\u001b[0;36m2\u001b[0m \u001b[0;34m/\u001b[0m \u001b[0mk_motor\u001b[0m\u001b[0;34m**\u001b[0m\u001b[0;36m2\u001b[0m\u001b[0;34m\u001b[0m\u001b[0;34m\u001b[0m\u001b[0m\n\u001b[1;32m     98\u001b[0m     \u001b[0;32mif\u001b[0m \u001b[0mterm1\u001b[0m \u001b[0;34m+\u001b[0m \u001b[0mterm2\u001b[0m \u001b[0;34m<\u001b[0m \u001b[0;36m0\u001b[0m\u001b[0;34m:\u001b[0m\u001b[0;34m\u001b[0m\u001b[0;34m\u001b[0m\u001b[0m\n\u001b[0;32m---> 99\u001b[0;31m         \u001b[0;32mraise\u001b[0m \u001b[0mValueError\u001b[0m\u001b[0;34m(\u001b[0m\u001b[0;34m\"Invalid parameters.. cannot compute delta_t\"\u001b[0m\u001b[0;34m)\u001b[0m\u001b[0;34m\u001b[0m\u001b[0;34m\u001b[0m\u001b[0m\n\u001b[0m\u001b[1;32m    100\u001b[0m     \u001b[0;32mreturn\u001b[0m \u001b[0msqrt\u001b[0m\u001b[0;34m(\u001b[0m\u001b[0mterm1\u001b[0m \u001b[0;34m+\u001b[0m \u001b[0mterm2\u001b[0m\u001b[0;34m)\u001b[0m\u001b[0;34m\u001b[0m\u001b[0;34m\u001b[0m\u001b[0m\n\u001b[1;32m    101\u001b[0m \u001b[0;34m\u001b[0m\u001b[0m\n",
      "\u001b[0;31mValueError\u001b[0m: Invalid parameters.. cannot compute delta_t"
     ]
    }
   ],
   "source": [
    "# Compute trim control\n",
    "def compute_delta_e(inertia_matrix, aircraft_param, rho, aero_coef, Vab, pqr):\n",
    "    Jxz = inertia_matrix['Jxz']\n",
    "    Jx = inertia_matrix['Jx']\n",
    "    Jz = inertia_matrix['Jz']\n",
    "    c = aircraft_param['c']\n",
    "    S = aircraft_param['S']\n",
    "    Cm0 = aero_coef['Cm0']\n",
    "    Cma = aero_coef['Cma']\n",
    "    Cmq = aero_coef['Cmq']\n",
    "    Cmde = aero_coef['Cmde']\n",
    "    Va, alpha, beta = np.reshape(Vab, (3))\n",
    "    p, q, r = np.reshape(pqr, (3))\n",
    "    delta_e = ((Jxz*(p**2-r**2)+(Jx-Jz)*p*r)/(0.5*rho*Va**2*c*S) - Cm0 - Cma*alpha - 0.5*Cmq*c*q/Va)/Cmde\n",
    "    return delta_e\n",
    "\n",
    "def compute_delta_ar(Gamma_i, aircraft_param, rho, aero_coef, Vab, pqr):\n",
    "    G1, G2, G3, G4, G5, G6, G7, G8 = Gamma_i\n",
    "    S = aircraft_param['S']\n",
    "    b = aircraft_param['b']\n",
    "    Cp0 = aero_coef['Cp0']\n",
    "    Cpb = aero_coef['Cpb']\n",
    "    Cpp = aero_coef['Cpp']\n",
    "    Cpr = aero_coef['Cpr']\n",
    "    Cpda = aero_coef['Cpda']\n",
    "    Cpdr = aero_coef['Cpdr']\n",
    "    Cr0 = aero_coef['Cr0']\n",
    "    Crb = aero_coef['Crb']\n",
    "    Crp = aero_coef['Crp']\n",
    "    Crr = aero_coef['Crr']\n",
    "    Crda = aero_coef['Crda']\n",
    "    Crdr = aero_coef['Crdr']\n",
    "    Cr0 = aero_coef['Cr0']\n",
    "    Va, alpha, beta = np.reshape(Vab, (3))\n",
    "    p, q, r = np.reshape(pqr, (3))\n",
    "    mtx1 = np.linalg.inv([[Cpda, Cpdr], [Crda, Crdr]])\n",
    "    mtx2 = [[(-G1*p*q + G2*q*r)/(0.5*rho*Va**2*S*b) - Cp0 - Cpb*beta - 0.5*Cpp*b*p/Va - 0.5*Cpr*b*r/Va],\n",
    "            [(-G7*p*q + G1*q*r)/(0.5*rho*Va**2*S*b) - Cr0 - Crb*beta - 0.5*Crp*b*p/Va - 0.5*Crr*b*r/Va]]\n",
    "    delta_a, delta_r = np.reshape(np.matmul(mtx1, mtx2), (2))\n",
    "    return delta_a, delta_r\n",
    "\n",
    "print(pqr)\n",
    "inertia_matrix = dotdict()\n",
    "inertia_matrix.Jxz = 1\n",
    "inertia_matrix.Jx = 100\n",
    "inertia_matrix.Jz = 100\n",
    "Gamma_i = [0,0,0,0,0,0,0,0]\n",
    "aircraft_param = dotdict()\n",
    "aircraft_param.S = 100\n",
    "aircraft_param.c = 20\n",
    "aircraft_param.b = 20\n",
    "rho = 1\n",
    "aero_coef = dotdict()\n",
    "aero_coef.Cm0 = 1\n",
    "aero_coef.Cma = 2\n",
    "aero_coef.Cmq = 1\n",
    "aero_coef.Cmde = 0.1\n",
    "aero_coef.Cp0 = 1\n",
    "aero_coef.Cpb = 1\n",
    "aero_coef.Cpp = 1\n",
    "aero_coef.Cpr = 1\n",
    "aero_coef.Cpda = 3\n",
    "aero_coef.Cpdr= 4\n",
    "aero_coef.Cr0 = 1\n",
    "aero_coef.Crb = 1\n",
    "aero_coef.Crp = 1\n",
    "aero_coef.Crr = 1\n",
    "aero_coef.Crda = 1\n",
    "aero_coef.Crdr = 2\n",
    "Vab = [50, pi/10, 0]\n",
    "delta_e = compute_delta_e(inertia_matrix, aircraft_param, rho, aero_coef, Vab, pqr)\n",
    "delta_a, delta_r = compute_delta_ar(Gamma_i, aircraft_param, rho, aero_coef, Vab, pqr)\n",
    "print(delta_e, delta_a, delta_r)\n",
    "\n",
    "def compute_delta_t(aircraft_param, aero_coef, Vab, uvw, pqr, theta):\n",
    "    S = aircraft_param['S']\n",
    "    c = aircraft_param['c']\n",
    "    g = aircraft_param['g']\n",
    "    MASS = aircraft_param['MASS']\n",
    "    S_prop = aircraft_param['S_prop']\n",
    "    C_prop = aircraft_param['C_prop']\n",
    "    k_motor = aircraft_param['k_motor']\n",
    "    CL0 = aero_coef['CL0']\n",
    "    CLa = aero_coef['CLa']\n",
    "    CLq = aero_coef['CLq']\n",
    "    CLde = aero_coef['CLde']\n",
    "    CD0 = aero_coef['CD0']\n",
    "    CDa = aero_coef['CDa']\n",
    "    CDq = aero_coef['CDq']\n",
    "    CDde = aero_coef['CDde']\n",
    "    Va, alpha, beta = np.reshape(Vab, (3))\n",
    "    p, q, r = np.reshape(pqr, (3))\n",
    "    u, v, w = np.reshape(uvw, (3))\n",
    "    CX0, CXa, CXq, CXde = [-i*cos(alpha) + j*sin(alpha) for i,j in zip([CL0, CLa, CLq, CLde], [CD0, CDa, CDq, CDde])]\n",
    "    CX = CX0 + CXa*alpha\n",
    "    term1 = (2*MASS*(-r*v + q*w + g*sin(theta)) - rho*Va**2*S*(CX + 0.5*CXq*c*q/Va + CXde*delta_e))/(rho*S_prop*C_prop*k_motor**2)\n",
    "    term2 = Va**2 / k_motor**2\n",
    "    if term1 + term2 < 0:\n",
    "        raise ValueError(\"Invalid parameters.. cannot compute delta_t\")\n",
    "    return sqrt(term1 + term2)\n",
    "\n",
    "aircraft_param.g = 9.8\n",
    "aircraft_param.MASS = 1000\n",
    "aircraft_param.S_prop = 10\n",
    "aircraft_param.C_prop = 10\n",
    "aircraft_param.k_motor = 2\n",
    "aero_coef.CL0 = 1\n",
    "aero_coef.CLa = 2\n",
    "aero_coef.CLq = 3\n",
    "aero_coef.CLde = 2\n",
    "aero_coef.CD0 = 2\n",
    "aero_coef.CDa = 4\n",
    "aero_coef.CDq = 1\n",
    "aero_coef.CDde = 1\n",
    "delta_t = compute_delta_t(aircraft_param, aero_coef, Vab, uvw, pqr, theta)"
   ]
  },
  {
   "cell_type": "code",
   "execution_count": null,
   "metadata": {},
   "outputs": [],
   "source": []
  },
  {
   "cell_type": "code",
   "execution_count": null,
   "metadata": {},
   "outputs": [],
   "source": []
  }
 ],
 "metadata": {
  "interpreter": {
   "hash": "d721c51f1625b8a186f3bf84ff195099ee0830f944bb420f44ba07a9fd97a4c7"
  },
  "kernelspec": {
   "display_name": "Python 3.10.0 ('pyMAV')",
   "language": "python",
   "name": "python3"
  },
  "language_info": {
   "codemirror_mode": {
    "name": "ipython",
    "version": 3
   },
   "file_extension": ".py",
   "mimetype": "text/x-python",
   "name": "python",
   "nbconvert_exporter": "python",
   "pygments_lexer": "ipython3",
   "version": "3.10.0"
  },
  "orig_nbformat": 4
 },
 "nbformat": 4,
 "nbformat_minor": 2
}
