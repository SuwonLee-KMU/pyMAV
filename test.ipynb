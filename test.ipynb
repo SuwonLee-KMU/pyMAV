{
 "cells": [
  {
   "cell_type": "markdown",
   "metadata": {},
   "source": [
    "# Test"
   ]
  },
  {
   "cell_type": "code",
   "execution_count": 1,
   "metadata": {},
   "outputs": [],
   "source": [
    "import pyMAV as mav\n",
    "from math import pi"
   ]
  },
  {
   "cell_type": "code",
   "execution_count": 2,
   "metadata": {},
   "outputs": [
    {
     "name": "stdout",
     "output_type": "stream",
     "text": [
      "[0.0, -0.1260636981519332, -0.3167203789874035, 0.1421821309911184, 0.09802013263310885, 0.137457354416002] [0.0, 0.13349740235503538, -0.009171764428700048, -0.18924461138639528, 0.006709280255273624, -0.009569918975410431]\n"
     ]
    }
   ],
   "source": [
    "af = mav.airframe('aerosonde')\n",
    "ac = af.get_aero_coef()\n",
    "ap = af.get_airframe_param()\n",
    "Gamma, Gamma_i = af.get_Gamma_components()\n",
    "loncoef, latcoef = af.get_linear_coef()\n",
    "Cp, Cr = af.get_pr_coefficients()\n",
    "CX, CZ = af.compute_XZ_coefficients(pi/10)\n",
    "print(Cp, Cr)"
   ]
  },
  {
   "cell_type": "code",
   "execution_count": null,
   "metadata": {},
   "outputs": [],
   "source": []
  }
 ],
 "metadata": {
  "interpreter": {
   "hash": "d721c51f1625b8a186f3bf84ff195099ee0830f944bb420f44ba07a9fd97a4c7"
  },
  "kernelspec": {
   "display_name": "Python 3.10.0 ('pyMAV')",
   "language": "python",
   "name": "python3"
  },
  "language_info": {
   "codemirror_mode": {
    "name": "ipython",
    "version": 3
   },
   "file_extension": ".py",
   "mimetype": "text/x-python",
   "name": "python",
   "nbconvert_exporter": "python",
   "pygments_lexer": "ipython3",
   "version": "3.10.0"
  },
  "orig_nbformat": 4
 },
 "nbformat": 4,
 "nbformat_minor": 2
}
