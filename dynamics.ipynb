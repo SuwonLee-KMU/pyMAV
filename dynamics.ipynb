{
 "cells": [
  {
   "cell_type": "markdown",
   "metadata": {},
   "source": [
    "# MAV Dynamics\n",
    "\n",
    "- Chapter 3."
   ]
  },
  {
   "cell_type": "code",
   "execution_count": 169,
   "metadata": {},
   "outputs": [],
   "source": [
    "import numpy as np\n",
    "from math import cos, sin, tan, pi\n",
    "class dotdict(dict):\n",
    "    \"\"\"dot.notation access to dictionary attributes\"\"\"\n",
    "    __getattr__ = dict.get\n",
    "    __setattr__ = dict.__setitem__\n",
    "    __delattr__ = dict.__delitem__\n"
   ]
  },
  {
   "cell_type": "code",
   "execution_count": 153,
   "metadata": {},
   "outputs": [],
   "source": [
    "# Inertia Matrix J\n",
    "MOMENT_OF_INERTIA = [10, 10, 10]   # Jx, Jy, Jz\n",
    "PRODUCTS_OF_INERTIA = [0, 1, 0] # Jxy=0, Jxz, Jyz=0\n",
    "def get_inertia_matrix(MOMENT_OF_INERTIA, PRODUCTS_OF_INERTIA):\n",
    "    Jx, Jy, Jz = np.reshape(MOMENT_OF_INERTIA, (3))\n",
    "    Jxy, Jxz, Jyz = np.reshape(PRODUCTS_OF_INERTIA, (3))\n",
    "    return [[Jx, -Jxy, -Jxz],\n",
    "            [-Jxy, Jy, -Jyz],\n",
    "            [-Jxz, -Jyz, Jz]]\n",
    "\n",
    "def get_Gamma_components(MOMENT_OF_INERTIA, PRODUCTS_OF_INERTIA):\n",
    "    Jx, Jy, Jz = np.reshape(MOMENT_OF_INERTIA, (3))\n",
    "    Jxy, Jxz, Jyz = np.reshape(PRODUCTS_OF_INERTIA, (3))\n",
    "    Gamma = Jx*Jz - Jxz*Jxz\n",
    "    Gamma1 = Jxz*(Jx - Jy + Jz) / Gamma\n",
    "    Gamma2 = (Jz*(Jz-Jy) + Jxz*Jxz) / Gamma\n",
    "    Gamma3 = Jz / Gamma\n",
    "    Gamma4 = Jxz / Gamma\n",
    "    Gamma5 = (Jz - Jx) / Jy\n",
    "    Gamma6 = Jxz / Jy\n",
    "    Gamma7 = ((Jx-Jy)*Jx + Jxz*Jxz) / Gamma\n",
    "    Gamma8 = Jx / Gamma\n",
    "    return Gamma, (Gamma1, Gamma2, Gamma3, Gamma4, Gamma5, Gamma6, Gamma7, Gamma8)\n",
    "    \n",
    "J = get_inertia_matrix(MOMENT_OF_INERTIA, PRODUCTS_OF_INERTIA)\n",
    "Gamma, Gamma_i = get_Gamma_components(MOMENT_OF_INERTIA, PRODUCTS_OF_INERTIA)"
   ]
  },
  {
   "cell_type": "code",
   "execution_count": 154,
   "metadata": {},
   "outputs": [],
   "source": [
    "# States\n",
    "\n",
    "def get_rot_b2v(euler): # rot matrix from body frame to inertial frame\n",
    "    phi, theta, psi = np.reshape(euler,(3))\n",
    "    row1 = [cos(theta)*cos(psi), sin(phi)*sin(theta)*cos(psi) - cos(phi)*sin(psi), cos(phi)*sin(theta)*cos(psi) + sin(phi)*sin(psi)]\n",
    "    row2 = [cos(theta)*sin(psi), sin(phi)*sin(theta)*sin(psi) + cos(phi)*cos(psi), cos(phi)*sin(theta)*sin(psi) - sin(phi)*cos(psi)]\n",
    "    row3 = [-sin(theta), sin(phi)*cos(theta), cos(phi)*cos(theta)]\n",
    "    return np.array([row1, row2, row3])\n",
    "    \n",
    "def get_ned_dot(uvw, euler, **kwargs): # kwargs: wind_ned\n",
    "    # Eq.(3.14) or (3.18)\n",
    "    rot_b2v = get_rot_b2v(euler)\n",
    "    ned_dot = np.matmul(rot_b2v, np.reshape(uvw,(3,1))) \n",
    "    if 'wind_ned' in kwargs.keys():\n",
    "        wind_ned = kwargs['wind_ned']\n",
    "        ned_dot = ned_dot + np.reshape(wind_ned,(3,1))\n",
    "    return ned_dot\n",
    "\n",
    "def get_uvw_dot(uvw, pqr, forces, MASS, **kwargs): # kwargs: wind_ned_dot, euler\n",
    "    # Eq. (3.15) or (3.19)\n",
    "    p, q, r = np.reshape(pqr, (3))\n",
    "    u, v, w = np.reshape(uvw, (3))\n",
    "    term1 = np.reshape([r*v - q*w, p*w - r*u, q*u - p*v],(3,1))\n",
    "    term2 = 1/MASS*np.reshape(forces,(3,1))\n",
    "    if ('wind_ned_dot' in kwargs.keys()) or ('euler' in kwargs.keys()):\n",
    "        try:\n",
    "            wind_ned_dot = kwargs['wind_ned_dot']\n",
    "            euler = kwargs['euler']\n",
    "            rot_v2b = np.transpose(get_rot_b2v(euler))\n",
    "            term2 = term2 + np.matmul(rot_v2b, np.reshape(wind_ned_dot,(3,1)))\n",
    "        except KeyError as ne:\n",
    "            print(f'Key {ne} not found. Passed arguments {list(kwargs.keys())} is ignored. Compute uvw in ground speed..')\n",
    "        except:\n",
    "            pass\n",
    "    return term1 + term2\n",
    "\n",
    "def get_euler_dot(euler, pqr):\n",
    "    # Eq. (3.16)\n",
    "    phi, theta, _ = np.reshape(euler,(3))\n",
    "    row1 = [1, sin(phi)*tan(theta), cos(phi)*tan(theta)]\n",
    "    row2 = [0, cos(phi), -sin(phi)]\n",
    "    row3 = [0, sin(phi)/cos(theta), cos(phi)/cos(theta)]\n",
    "    return np.matmul([row1, row2, row3], np.reshape(pqr,(3,1)))\n",
    "\n",
    "def get_pqr_dot(pqr, moments, Jy, Gamma_i):\n",
    "    # Eq. (3.17)\n",
    "    p, q, r = np.reshape(pqr, (3))\n",
    "    l, m, n = np.reshape(moments, (3))\n",
    "    G1, G2, G3, G4, G5, G6, G7, G8 = Gamma_i\n",
    "    term1 = np.array([[G1*p*q - G2*q*r], [G5*p*r - G6*(p**2-r**2)], [G7*p*q - G1*q*r]])\n",
    "    term2 = np.array([[G3*l + G4*n], [m/Jy], [G4*l + G8*n]])\n",
    "    return term1 + term2\n",
    "\n",
    "def get_dynamics(states, MASS, MOMENT_OF_INERTIA, Gamma_i, forces, moments, **kwargs):\n",
    "    _, uvw, euler, pqr = states\n",
    "    ned_dot = get_ned_dot(uvw, euler, **kwargs)\n",
    "    if 'wind_ned_dot' in kwargs.keys():\n",
    "        kwargs['euler'] = euler\n",
    "    uvw_dot = get_uvw_dot(uvw, pqr, forces, MASS, **kwargs)\n",
    "    euler_dot = get_euler_dot(euler, pqr)\n",
    "    pqr_dot = get_pqr_dot(pqr, moments, MOMENT_OF_INERTIA[1], Gamma_i)\n",
    "    return ned_dot, uvw_dot, euler_dot, pqr_dot"
   ]
  },
  {
   "cell_type": "markdown",
   "metadata": {},
   "source": [
    "Chapter 4."
   ]
  },
  {
   "cell_type": "markdown",
   "metadata": {},
   "source": [
    "---\n",
    "\n",
    "**Stability Derivatives**\n",
    "\n",
    "The areodynamic coefficients $C_{m_\\alpha}, C_{l_\\beta}, C_{n_\\beta}, C_{m_q}, C_{l_p}$, and $C_{n_r}$ are referred to as *stability derivatives* because their values determine the static and dynamic stability of the MAV.\n",
    "\n",
    "- $C_{m_\\alpha}$ is referred to as the longitudinal static stability derivative. For the MAV to be statically stable, $C_{m_\\alpha}$ must be less than zero.\n",
    "- $C_{l_\\beta}$ is called the roll static stability derivative and is typically associated with dihedral in the wings. For static stability in roll, $C_{l_\\beta}$  must be negative.\n",
    "- $C_{n_\\beta}$ is referred to as the yaw static stability derivative and is sometimes called the weathercock stability derivative. For the MAV to be stable in yaw, $C_{n_beta}$ must be positive.\n",
    "\n",
    "---\n",
    "---\n",
    "\n",
    "**Damping Derivatives**\n",
    "\n",
    "Each of the damping derivatives is usually negative.\n",
    "\n",
    "- $C_{m_q}$ is referred to as the pitch damping derivative.\n",
    "- $C_{l_p}$ is called the roll damping derivative.\n",
    "- $C_{n_r}$ is referred to as the yaw damping derivative.\n",
    "\n",
    "---\n",
    "---\n",
    "\n",
    "**Control Derivatives**\n",
    "\n",
    "The areodynamic coefficients $C_{m_{\\delta_e}}, C_{l_{\\delta_a}}$, and $C_{n_{\\delta_r}}$ are associated with the deflection of control surfaces and are referred to as the *primary control derivatives*. They are primary because the moments produced are the intended result of the specific control surface deflection.\n",
    "\n",
    "$C_{l_{\\delta_r}}$ and $C_{n_{\\delta_a}}$ are called *cross-control derivatives*. They define the off-axis moments that occur when the control surfaces are deflected.\n",
    "\n",
    "---"
   ]
  },
  {
   "cell_type": "code",
   "execution_count": 192,
   "metadata": {},
   "outputs": [],
   "source": [
    "# Longitudinal Aerodynamic Coefficients\n",
    "LIFT_COEFFICIENTS = [1, 1, 0, 1] # [C_L_0, C_L_alpha, C_L_q, C_L_delta_e]\n",
    "DRAG_COEFFICIENTS = [1, 1, 0, 1] # [C_D_0, C_D_alpha, C_D_q, C_D_delta_e]\n",
    "PITCHING_MOMENT_COEFFICIENTS = [1, -1, -1, 1] # [C_m_0, C_m_alpha, C_m_q, C_m_delta_e]\n",
    "# Lateral Aerodynamic Coefficients\n",
    "LATERAL_FORCE_COEFFICIENTS = [1, 1, 1, 1, 1, 1] # [C_Y_0, C_Y_beta, C_Y_p, C_Y_r, C_Y_delta_a, C_Y_delta_r]\n",
    "ROLL_MOMENT_COEFFICIENTS = [1, -1, -1, 1, 1, 1] # [C_l_0, C_l_beta, C_l_p, C_l_R, C_l_delta_a, C_l_delta_r]\n",
    "YAW_MOMENT_COEFFICIENTS = [1, 1, 1, -1, 1, 1] # [C_n_0, C_n_beta, C_n_p, C_n_r, C_n_delta_a, C_n_delta_r]\n",
    "\n",
    "lon_linear_coef = [LIFT_COEFFICIENTS, DRAG_COEFFICIENTS, PITCHING_MOMENT_COEFFICIENTS]\n",
    "lat_linear_coef = [LATERAL_FORCE_COEFFICIENTS, ROLL_MOMENT_COEFFICIENTS, YAW_MOMENT_COEFFICIENTS]\n",
    "\n",
    "def get_aerodynamic_coefficients(lon_linear_coef, lat_linear_coef, MEAN_CHORD, WINGSPAN, AOA, sideslip, airspeed, pqr, control_surface):\n",
    "    CL_coef, CD_coef, Cm_coef = lon_linear_coef\n",
    "    CY_coef, Cl_coef, Cn_coef = lat_linear_coef\n",
    "    p, q, r = np.reshape(pqr, (3))\n",
    "    delta_e, delta_a, delta_r = np.reshape(control_surface, (3))\n",
    "\n",
    "    b = WINGSPAN\n",
    "    c = MEAN_CHORD\n",
    "    alpha = AOA\n",
    "    beta = sideslip\n",
    "    Va = airspeed\n",
    "\n",
    "    CL = np.matmul(np.reshape(CL_coef,(1,4)), np.reshape([1, alpha, 0.5*c*q/Va, delta_e],(4,1)))\n",
    "    CD = np.matmul(np.reshape(CD_coef,(1,4)), np.reshape([1, alpha, 0.5*c*q/Va, delta_e],(4,1)))\n",
    "    Cm = np.matmul(np.reshape(Cm_coef,(1,4)), np.reshape([1, alpha, 0.5*c*q/Va, delta_e],(4,1)))\n",
    "    CY = np.matmul(np.reshape(CY_coef,(1,6)), np.reshape([1, beta, 0.5*b*p/Va, 0.5*b*r/Va, delta_a, delta_r],(6,1)))\n",
    "    Cl = np.matmul(np.reshape(Cl_coef,(1,6)), np.reshape([1, beta, 0.5*b*p/Va, 0.5*b*r/Va, delta_a, delta_r],(6,1)))\n",
    "    Cn = np.matmul(np.reshape(Cn_coef,(1,6)), np.reshape([1, beta, 0.5*b*p/Va, 0.5*b*r/Va, delta_a, delta_r],(6,1)))\n",
    "\n",
    "    lon_coef = list(np.reshape([CL, CD, Cm], (3)))\n",
    "    lat_coef = list(np.reshape([CY, Cl, Cn], (3)))\n",
    "    return [lon_coef, lat_coef]"
   ]
  },
  {
   "cell_type": "code",
   "execution_count": 193,
   "metadata": {},
   "outputs": [],
   "source": [
    "# Aerodynamic Forces and Moments\n",
    "def get_longitudinal_body_forces(F_lift, F_drag, AOA):\n",
    "    mtx = [[cos(AOA), -sin(AOA)], [sin(AOA), cos(AOA)]]\n",
    "    return np.matmul(mtx, np.reshape([-F_drag,-F_lift], (2))) # (fx, fz) in body frame\n",
    "\n",
    "def longitudinal_aerodynamics(AIR_DENSITY, PLATFORM_AREA, MEAN_CHORD, AOA, airspeed, lon_coef):\n",
    "    # Eq. (4.2)-(4.5)\n",
    "    CL, CD, Cm = np.reshape(lon_coef, (3))\n",
    "    F_lift = 0.5*AIR_DENSITY*airspeed**2*PLATFORM_AREA*CL\n",
    "    F_drag = 0.5*AIR_DENSITY*airspeed**2*PLATFORM_AREA*CD\n",
    "    m = 0.5*AIR_DENSITY*airspeed**2*PLATFORM_AREA*MEAN_CHORD*Cm\n",
    "    fx, fz = get_longitudinal_body_forces(F_lift, F_drag, AOA)\n",
    "    return fx, fz, m\n",
    "\n",
    "def lateral_aerodynamics(AIR_DENSITY, PLATFORM_AREA, WINGSPAN, airspeed, lat_coef):\n",
    "    # Page 50\n",
    "    CY, Cl, Cn = np.reshape(lat_coef, (3))\n",
    "    fy = 0.5*AIR_DENSITY*airspeed**2*PLATFORM_AREA*CY\n",
    "    l = 0.5*AIR_DENSITY*airspeed**2*PLATFORM_AREA*WINGSPAN*Cl\n",
    "    n = 0.5*AIR_DENSITY*airspeed**2*PLATFORM_AREA*WINGSPAN*Cn\n",
    "    return fy, l, n\n",
    "\n",
    "\n",
    "# Gravity force\n",
    "def get_gravity_force(GRAV_ACC, MASS, euler):\n",
    "    phi, theta, psi = np.reshape(euler,(3))\n",
    "    fx = -MASS*GRAV_ACC*sin(theta)\n",
    "    fy = MASS*GRAV_ACC*cos(theta)*sin(phi)\n",
    "    fz = MASS*GRAV_ACC*cos(theta)*cos(phi)\n",
    "    return fx, fy, fz\n",
    "\n",
    "\n",
    "# Propeller force and moment\n",
    "def get_propeller_force(AIR_DENSITY, SWEPT, PROP_CHORD, MOTOR_FORCE_COEF, airspeed, delta_t):\n",
    "    fx = 0.5*AIR_DENSITY*SWEPT*PROP_CHORD*((MOTOR_FORCE_COEF*delta_t)**2 - airspeed**2)\n",
    "    fy, fz = 0, 0\n",
    "    return fx, fy, fz\n",
    "\n",
    "def get_propeller_moment(MOTOR_TORQUE_COEF, PROP_SPEED_COEF, delta_t):\n",
    "    l = -MOTOR_TORQUE_COEF*(PROP_SPEED_COEF*delta_t)**2\n",
    "    return l, m, n"
   ]
  },
  {
   "cell_type": "code",
   "execution_count": 204,
   "metadata": {},
   "outputs": [
    {
     "name": "stdout",
     "output_type": "stream",
     "text": [
      "[[1.]\n",
      " [2.]\n",
      " [3.]]\n",
      "[[ -3659.39735758]\n",
      " [ 30150.2       ]\n",
      " [-14570.25394875]]\n",
      "[[0.1]\n",
      " [0.2]\n",
      " [0.1]]\n",
      "[[10907070.70888889]\n",
      " [  672736.29385641]\n",
      " [19090707.06888889]]\n"
     ]
    }
   ],
   "source": [
    "GRAV_ACC = 9.8\n",
    "PLATFORM_AREA = 100 # S\n",
    "MEAN_CHORD = 4 # c\n",
    "WINGSPAN = 30 # b\n",
    "AIR_DENSITY = 1 # rho\n",
    "PROP_CHORD = 2\n",
    "SWEPT = pi*PROP_CHORD**2\n",
    "MOTOR_FORCE_COEF = 2\n",
    "MOTOR_TORQUE_COEF = 2\n",
    "PROP_SPEED_COEF = 1\n",
    "MASS = 100\n",
    "\n",
    "params = dotdict()\n",
    "params.GRAV_ACC = 9.8\n",
    "params.PLATFORM_AREA = 100 # S\n",
    "params.MEAN_CHORD = 4 # c\n",
    "params.WINGSPAN = 30\n",
    "params.AIR_DENSITY = 1 # rho\n",
    "params.PROP_CHORD = 2\n",
    "params.SWEPT = pi*PROP_CHORD**2\n",
    "params.MOTOR_FORCE_COEF = 2\n",
    "params.MOTOR_TORQUE_COEF = 2\n",
    "params.PROP_SPEED_COEF = 1\n",
    "params.Gamma_i = Gamma_i\n",
    "params.MOMENT_OF_INERTIA = MOMENT_OF_INERTIA\n",
    "params.MASS = MASS\n",
    "\n",
    "alpha = pi/10\n",
    "beta = 0\n",
    "airspeed = 100\n",
    "control_surface = [1,2,3] # [delta_e, delta_a, delta_r]\n",
    "control_prop = 100 # delta_t\n",
    "\n",
    "ned = [0,0,0]\n",
    "uvw = [1,2,3]\n",
    "euler = [0,0,0]\n",
    "pqr = [0.1,0.2,0.1]\n",
    "states = [ned, uvw, euler, pqr]\n",
    "\n",
    "lon_coef, lat_coef = get_aerodynamic_coefficients(lon_linear_coef, lat_linear_coef, MEAN_CHORD, WINGSPAN, alpha, beta, airspeed, pqr, control_surface)\n",
    "\n",
    "aero = dotdict()\n",
    "aero.fx, aero.fz, aero.m = longitudinal_aerodynamics(AIR_DENSITY, PLATFORM_AREA, MEAN_CHORD, alpha, airspeed, lon_coef)\n",
    "aero.fy, aero.l, aero.n = lateral_aerodynamics(AIR_DENSITY, PLATFORM_AREA, WINGSPAN, airspeed, lat_coef)\n",
    "grav = dotdict()\n",
    "grav.fx, grav.fy, grav.fz = get_gravity_force(GRAV_ACC, MASS, euler)\n",
    "prop = dotdict()\n",
    "prop.fx, prop.fy, prop.fz = get_propeller_force(AIR_DENSITY, SWEPT, PROP_CHORD, MOTOR_FORCE_COEF, airspeed, control_prop)\n",
    "prop.l, prop.m, prop.n = get_propeller_moment(MOTOR_TORQUE_COEF, PROP_SPEED_COEF, control_prop)\n",
    "\n",
    "forces = np.sum([[v.fx, v.fy, v.fz] for v in [aero, grav, prop]], 0) # [fx, fy, fz]\n",
    "moments = np.sum([[v.l, v.m, v.n] for v in [aero, prop]], 0) # [l, m, n]\n",
    "\n",
    "states_dot = get_dynamics(states, MASS, MOMENT_OF_INERTIA, Gamma_i, forces, moments)\n",
    "for i in states_dot:\n",
    "    print(i)"
   ]
  },
  {
   "cell_type": "markdown",
   "metadata": {},
   "source": [
    "Coefficient conversion"
   ]
  },
  {
   "cell_type": "code",
   "execution_count": 197,
   "metadata": {},
   "outputs": [
    {
     "name": "stdout",
     "output_type": "stream",
     "text": [
      "[0.1111111111111111, -0.09090909090909091, -0.09090909090909091, 0.09090909090909091, 0.1111111111111111, 0.1111111111111111] [0.1111111111111111, 0.09090909090909091, 0.09090909090909091, -0.09090909090909091, 0.1111111111111111, 0.1111111111111111]\n"
     ]
    }
   ],
   "source": [
    "# convert coefficients w.r.t. lmn(moments) into pqr(angular rate)\n",
    "def convert_lmn2pqr(Gamma_i, ROLL_MOMENT_COEFFICIENTS, YAW_MOMENT_COEFFICIENTS):\n",
    "    Cl0, Clb, Clp, Clr, Clda, Cldr = ROLL_MOMENT_COEFFICIENTS\n",
    "    Cn0, Cnb, Cnp, Cnr, Cnda, Cndr = YAW_MOMENT_COEFFICIENTS\n",
    "    G1, G2, G3, G4, G5, G6, G7, G8 = Gamma_i\n",
    "    Cp0 = G3*Cl0 + G4*Cn0\n",
    "    Cpb = G3*Clb + G4*Cnb\n",
    "    Cpp = G3*Clp + G4*Cnp\n",
    "    Cpr = G3*Clr + G4*Cnr\n",
    "    Cpda = G3*Clda + G4*Cnda\n",
    "    Cpdr = G3*Cldr + G4*Cldr\n",
    "    Cr0 = G4*Cl0 + G8*Cn0\n",
    "    Crb = G4*Clb + G8*Cnb\n",
    "    Crp = G4*Clp + G8*Cnp\n",
    "    Crr = G4*Clr + G8*Cnr\n",
    "    Crda = G4*Clda + G8*Cnda\n",
    "    Crdr = G4*Cldr + G8*Cndr\n",
    "    Cp = [Cp0, Cpb, Cpp, Cpr, Cpda, Cpdr]\n",
    "    Cr = [Cr0, Crb, Crp, Crr, Crda, Crdr]\n",
    "    return Cp, Cr\n",
    "\n",
    "Cp, Cr = convert_lmn2pqr(Gamma_i, ROLL_MOMENT_COEFFICIENTS, YAW_MOMENT_COEFFICIENTS)\n",
    "print(Cp, Cr)"
   ]
  },
  {
   "cell_type": "markdown",
   "metadata": {},
   "source": [
    "5.4. Transfer Function Models"
   ]
  },
  {
   "cell_type": "markdown",
   "metadata": {},
   "source": [
    "**Roll Dynamics Transfer Function**\n",
    "\n",
    "$$\n",
    "\\dot{\\phi} = p + d_{\\phi_1}\n",
    "$$\n",
    "\n",
    "$$\n",
    "\\phi(s) = \\left( \\frac{a_{\\phi_2}}{s(s+a_{\\phi_1})}\\right) \\left( \\delta_a(s) + \\frac{1}{a_{\\phi_2}} d_{\\phi_2} (s)\\right)\n",
    "$$"
   ]
  },
  {
   "cell_type": "code",
   "execution_count": 205,
   "metadata": {},
   "outputs": [
    {
     "name": "stdout",
     "output_type": "stream",
     "text": [
      "(204545.45454545456, 1666666.6666666665, 6687121.213939394)\n"
     ]
    }
   ],
   "source": [
    "# Roll Angle\n",
    "def get_roll_coef(params, Cp, airspeed, sideslip, euler, pqr, delta_r):\n",
    "    rho = params.AIR_DENSITY\n",
    "    S = params.PLATFORM_AREA\n",
    "    b = params.WINGSPAN\n",
    "    Cp0, Cpb, Cpp, Cpr, Cpda, Cpdr = Cp\n",
    "    G1, G2, G3, G4, G5, G6, G7, G8 = params.Gamma_i\n",
    "    beta = sideslip\n",
    "    phi, theta, psi = np.reshape(euler, (3))\n",
    "    p, q, r = np.reshape(pqr, (3))\n",
    "    a_phi_1 = -0.5*rho*airspeed**2*S*b*Cpp*b*0.5/airspeed\n",
    "    a_phi_2 = 0.5*rho*airspeed**2*S*b*Cpda\n",
    "    d_phi_1 = q*sin(phi)*tan(theta)+r*cos(phi)*tan(theta)\n",
    "    d_phi_1_dot = 0 # Approximation\n",
    "    d_phi_2 = G1*p*q - G2*q*r + 0.5*rho*airspeed**2*S*b*(Cp0 + Cpb*beta - 0.5*Cpp*b*d_phi_1/airspeed + 0.5*Cpr*b*r/airspeed + Cpdr*delta_r) + d_phi_1_dot\n",
    "    return a_phi_1, a_phi_2, d_phi_2\n",
    "\n",
    "roll_coef = get_roll_coef(params, Cp, airspeed, beta, euler, pqr, control_surface[-1])\n",
    "print(roll_coef)\n"
   ]
  },
  {
   "cell_type": "markdown",
   "metadata": {},
   "source": [
    "**Course and Heading**\n",
    "\n",
    "$$\n",
    "\\dot{\\chi} = \\frac{g}{V_G} \\tan\\phi\n",
    "$$\n",
    "\n",
    "$$\n",
    "\\chi(s) = \\frac{g/V_g}{s} (\\phi(s) + d_\\chi (s))\n",
    "$$\n",
    "\n",
    "Alternatively, using GPS, \n",
    "\n",
    "$$\n",
    "\\psi(s) = \\frac{g/V_a}{s} (\\phi(s) + d_\\chi (s))\n",
    "$$"
   ]
  },
  {
   "cell_type": "markdown",
   "metadata": {},
   "source": [
    "**Sideslip**\n",
    "\n",
    "$$\n",
    "\\dot{\\beta} = -a_{\\beta_1} \\beta + a_{\\beta_2} \\delta_r + d_\\beta\n",
    "$$\n",
    "\n",
    "$$\n",
    "\\beta(s) = \\frac{a_{\\beta_2}}{s+a_{\\beta_1}} (\\delta_r(s) + d_\\beta (s))\n",
    "$$"
   ]
  },
  {
   "cell_type": "code",
   "execution_count": 207,
   "metadata": {},
   "outputs": [
    {
     "name": "stdout",
     "output_type": "stream",
     "text": [
      "(-50.0, 50.0, 151.502)\n"
     ]
    }
   ],
   "source": [
    "def get_sideslip_coef(params, CY, airspeed, uvw, euler, pqr, delta_a):\n",
    "    # Page 71.\n",
    "    rho = params.AIR_DENSITY\n",
    "    S = params.PLATFORM_AREA\n",
    "    b = params.WINGSPAN\n",
    "    MASS = params.MASS\n",
    "    CY0, CYb, CYp, CYr, CYda, CYdr = np.reshape(CY, (6))\n",
    "    u, v, w = np.reshape(uvw, (3))\n",
    "    phi, theta, psi = np.reshape(euler, (3))\n",
    "    p, q, r = np.reshape(pqr, (3))\n",
    "    a_beta_1 = -0.5*rho*airspeed*S/MASS*CYb\n",
    "    a_beta_2 = 0.5*rho*airspeed*S/MASS*CYdr\n",
    "    d_beta = 1/airspeed*(p*w - r*u + params.GRAV_ACC*cos(theta)*sin(phi)) + 0.5*rho*airspeed*S/MASS*(CY0 + 0.5*CYp*b*p/airspeed + 0.5*CYr*b*r/airspeed + CYda*delta_a)\n",
    "    return a_beta_1, a_beta_2, d_beta\n",
    "\n",
    "CY = LATERAL_FORCE_COEFFICIENTS\n",
    "sideslip_coef = get_sideslip_coef(params, CY, airspeed, uvw, euler, pqr, control_surface[1])\n",
    "print(sideslip_coef)"
   ]
  },
  {
   "cell_type": "markdown",
   "metadata": {},
   "source": [
    "**Pitch Angle**\n",
    "\n",
    "$$\n",
    "\\ddot{\\theta} = -a_{\\theta_1} \\dot{\\theta} - a_{\\theta_2}\\theta + a_{\\theta_3} \\delta_e + d_{\\theta_2}\n",
    "$$"
   ]
  },
  {
   "cell_type": "code",
   "execution_count": 210,
   "metadata": {},
   "outputs": [
    {
     "name": "stdout",
     "output_type": "stream",
     "text": [
      "(4000.0, 200000.0, 200000.0, 137168.14692820414)\n"
     ]
    }
   ],
   "source": [
    "def get_pitch_coef(params, airspeed, AOA, Cm):\n",
    "    # Page 73.\n",
    "    rho = params.AIR_DENSITY\n",
    "    S = params.PLATFORM_AREA\n",
    "    b = params.WINGSPAN\n",
    "    c = params.MEAN_CHORD\n",
    "    MASS = params.MASS\n",
    "    Jy = params.MOMENT_OF_INERTIA[1]\n",
    "    G1, G2, G3, G4, G5, G6, G7, G8 = params.Gamma_i\n",
    "    Cm0, Cma, Cmq, Cmde = np.reshape(Cm, (4)) # [C_m_0, C_m_alpha, C_m_q, C_m_delta_e]\n",
    "    u, v, w = np.reshape(uvw, (3))\n",
    "    phi, theta, psi = np.reshape(euler, (3))\n",
    "    p, q, r = np.reshape(pqr, (3))\n",
    "    a_theta_1 = -0.25*rho*airspeed*c*S*Cmq*c/Jy\n",
    "    a_theta_2 = -0.5*rho*airspeed**2*c*S*Cma/Jy\n",
    "    a_theta_3 = 0.5*rho*airspeed**2*c*S*Cmde/Jy\n",
    "    d_theta_1 = q*(cos(phi)-1)-r*sin(phi)\n",
    "    d_theta_1_dot = 0 # Approximation\n",
    "    gamma = theta - AOA\n",
    "    d_theta_2 = G6*(r**2-p**2) + G5*p*r + 0.5*rho*airspeed**2*c*S/Jy*(Cm0 - Cma*gamma - 0.5*Cmq*c/airspeed*d_theta_1) + d_theta_1_dot\n",
    "    return a_theta_1, a_theta_2, a_theta_3, d_theta_2\n",
    "\n",
    "Cm = PITCHING_MOMENT_COEFFICIENTS\n",
    "pitch_coef = get_pitch_coef(params, airspeed, alpha, Cm)\n",
    "print(pitch_coef)"
   ]
  },
  {
   "cell_type": "markdown",
   "metadata": {},
   "source": [
    "**Altitude**\n",
    "\n",
    "$$\n",
    "\\dot{h} = V_a \\theta + d_h\\\\\n",
    "d_h = (u\\sin\\theta - V_a \\theta) - v \\sin \\phi \\cos\\theta - w \\cos\\phi \\cos\\theta\n",
    "$$\n",
    "\n",
    "$$\n",
    "h(s) = \\frac{V_a}{S} \\left( \\theta + \\frac{1}{V_a} dh \\right)\n",
    "$$"
   ]
  },
  {
   "cell_type": "markdown",
   "metadata": {},
   "source": [
    "**Airspeed**\n",
    "\n",
    "$$\n",
    "\\dot{V}_a = \\dot{u}\\cos\\alpha + \\dot{w} \\sin \\alpha + d_{V_1}\\\\\n",
    "d_{V_1} = -\\dot{u}(1-\\cos\\beta)\\cos\\alpha - \\dot{w}(1-\\cos\\beta)\\sin\\alpha + \\dot{v}\\sin\\beta\n",
    "$$\n",
    "\n",
    "$$\n",
    "\\bar{V}_a(s) = \\frac{1}{s+a_{V_1}} ( a_{V_2} \\bar{\\delta}_t (s) - a_{V_3}\\bar{\\theta}(s) + d_{V}(s))\n",
    "$$"
   ]
  },
  {
   "cell_type": "code",
   "execution_count": null,
   "metadata": {},
   "outputs": [],
   "source": [
    "def get_airspeed_coef(params, airspeed, CD):\n",
    "    "
   ]
  },
  {
   "cell_type": "code",
   "execution_count": null,
   "metadata": {},
   "outputs": [],
   "source": []
  }
 ],
 "metadata": {
  "interpreter": {
   "hash": "1eb668ecb2fb1c7c56594229a55f0de177d81c3f09016f01d538ae1167c5d2eb"
  },
  "kernelspec": {
   "display_name": "Python 3.10.0 ('pyMAV')",
   "language": "python",
   "name": "python3"
  },
  "language_info": {
   "codemirror_mode": {
    "name": "ipython",
    "version": 3
   },
   "file_extension": ".py",
   "mimetype": "text/x-python",
   "name": "python",
   "nbconvert_exporter": "python",
   "pygments_lexer": "ipython3",
   "version": "3.10.0"
  },
  "orig_nbformat": 4
 },
 "nbformat": 4,
 "nbformat_minor": 2
}
